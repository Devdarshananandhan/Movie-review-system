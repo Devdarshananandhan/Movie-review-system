{
 "cells": [
  {
   "cell_type": "code",
   "execution_count": 1,
   "id": "4e832046-3444-40b9-a003-701128256934",
   "metadata": {},
   "outputs": [],
   "source": [
    "import pandas as pd"
   ]
  },
  {
   "cell_type": "code",
   "execution_count": 3,
   "id": "6af194eb-bd8b-49d8-a016-382017bb4bba",
   "metadata": {},
   "outputs": [],
   "source": [
    "df = pd.read_csv(\"updated_genre_data.csv\")"
   ]
  },
  {
   "cell_type": "code",
   "execution_count": null,
   "id": "cb9325c0-2568-43cc-9ba3-20df12bdd6b4",
   "metadata": {},
   "outputs": [],
   "source": [
    "df = df[df['Genre.Romance'] != 1 or df['Genre.Family'] != 1 or df['Genre.Western'] != 1]"
   ]
  }
 ],
 "metadata": {
  "kernelspec": {
   "display_name": "Python 3 (ipykernel)",
   "language": "python",
   "name": "python3"
  },
  "language_info": {
   "codemirror_mode": {
    "name": "ipython",
    "version": 3
   },
   "file_extension": ".py",
   "mimetype": "text/x-python",
   "name": "python",
   "nbconvert_exporter": "python",
   "pygments_lexer": "ipython3",
   "version": "3.12.4"
  }
 },
 "nbformat": 4,
 "nbformat_minor": 5
}
